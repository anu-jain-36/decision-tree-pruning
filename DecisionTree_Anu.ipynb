{
  "cells": [
    {
      "cell_type": "code",
      "execution_count": null,
      "id": "fef1d66b",
      "metadata": {
        "id": "fef1d66b"
      },
      "outputs": [],
      "source": [
        "import numpy as np\n",
        "import warnings\n",
        "warnings.simplefilter(action='ignore', category=FutureWarning)\n",
        "\n",
        "import pandas as pd\n",
        "import matplotlib.pyplot as plt\n",
        "import seaborn as sns\n",
        "import random\n",
        "from pprint import pprint\n",
        "from decision_tree_functions import *\n",
        "from helper_functions import *"
      ]
    },
    {
      "cell_type": "code",
      "execution_count": null,
      "id": "fd2526b4",
      "metadata": {
        "id": "fd2526b4"
      },
      "outputs": [],
      "source": [
        "%matplotlib inline\n",
        "sns.set_style(\"darkgrid\")"
      ]
    },
    {
      "cell_type": "code",
      "execution_count": null,
      "id": "4ccc8d37",
      "metadata": {
        "id": "4ccc8d37"
      },
      "outputs": [],
      "source": [
        "# Section 1: Train Decision Train on Iris Data\n",
        "\n",
        "df = pd.read_csv(\"Iris.csv\")\n",
        "df = df.drop(\"Id\", axis=1)\n",
        "df = df.rename(columns={\"species\": \"label\"})"
      ]
    },
    {
      "cell_type": "code",
      "execution_count": null,
      "id": "60fdf9e6",
      "metadata": {
        "id": "60fdf9e6",
        "outputId": "fe575257-b49b-436b-8928-d4f55dd54e4e",
        "colab": {
          "base_uri": "https://localhost:8080/",
          "height": 112
        }
      },
      "outputs": [
        {
          "output_type": "execute_result",
          "data": {
            "text/plain": [
              "   sepal_length  sepal_width  petal_length  petal_width        label\n",
              "0           5.1          3.5           1.4          0.2  Iris-setosa\n",
              "1           4.9          3.0           1.4          0.2  Iris-setosa"
            ],
            "text/html": [
              "\n",
              "  <div id=\"df-7398a426-9d32-400d-9ee6-602c6336188c\" class=\"colab-df-container\">\n",
              "    <div>\n",
              "<style scoped>\n",
              "    .dataframe tbody tr th:only-of-type {\n",
              "        vertical-align: middle;\n",
              "    }\n",
              "\n",
              "    .dataframe tbody tr th {\n",
              "        vertical-align: top;\n",
              "    }\n",
              "\n",
              "    .dataframe thead th {\n",
              "        text-align: right;\n",
              "    }\n",
              "</style>\n",
              "<table border=\"1\" class=\"dataframe\">\n",
              "  <thead>\n",
              "    <tr style=\"text-align: right;\">\n",
              "      <th></th>\n",
              "      <th>sepal_length</th>\n",
              "      <th>sepal_width</th>\n",
              "      <th>petal_length</th>\n",
              "      <th>petal_width</th>\n",
              "      <th>label</th>\n",
              "    </tr>\n",
              "  </thead>\n",
              "  <tbody>\n",
              "    <tr>\n",
              "      <th>0</th>\n",
              "      <td>5.1</td>\n",
              "      <td>3.5</td>\n",
              "      <td>1.4</td>\n",
              "      <td>0.2</td>\n",
              "      <td>Iris-setosa</td>\n",
              "    </tr>\n",
              "    <tr>\n",
              "      <th>1</th>\n",
              "      <td>4.9</td>\n",
              "      <td>3.0</td>\n",
              "      <td>1.4</td>\n",
              "      <td>0.2</td>\n",
              "      <td>Iris-setosa</td>\n",
              "    </tr>\n",
              "  </tbody>\n",
              "</table>\n",
              "</div>\n",
              "    <div class=\"colab-df-buttons\">\n",
              "\n",
              "  <div class=\"colab-df-container\">\n",
              "    <button class=\"colab-df-convert\" onclick=\"convertToInteractive('df-7398a426-9d32-400d-9ee6-602c6336188c')\"\n",
              "            title=\"Convert this dataframe to an interactive table.\"\n",
              "            style=\"display:none;\">\n",
              "\n",
              "  <svg xmlns=\"http://www.w3.org/2000/svg\" height=\"24px\" viewBox=\"0 -960 960 960\">\n",
              "    <path d=\"M120-120v-720h720v720H120Zm60-500h600v-160H180v160Zm220 220h160v-160H400v160Zm0 220h160v-160H400v160ZM180-400h160v-160H180v160Zm440 0h160v-160H620v160ZM180-180h160v-160H180v160Zm440 0h160v-160H620v160Z\"/>\n",
              "  </svg>\n",
              "    </button>\n",
              "\n",
              "  <style>\n",
              "    .colab-df-container {\n",
              "      display:flex;\n",
              "      gap: 12px;\n",
              "    }\n",
              "\n",
              "    .colab-df-convert {\n",
              "      background-color: #E8F0FE;\n",
              "      border: none;\n",
              "      border-radius: 50%;\n",
              "      cursor: pointer;\n",
              "      display: none;\n",
              "      fill: #1967D2;\n",
              "      height: 32px;\n",
              "      padding: 0 0 0 0;\n",
              "      width: 32px;\n",
              "    }\n",
              "\n",
              "    .colab-df-convert:hover {\n",
              "      background-color: #E2EBFA;\n",
              "      box-shadow: 0px 1px 2px rgba(60, 64, 67, 0.3), 0px 1px 3px 1px rgba(60, 64, 67, 0.15);\n",
              "      fill: #174EA6;\n",
              "    }\n",
              "\n",
              "    .colab-df-buttons div {\n",
              "      margin-bottom: 4px;\n",
              "    }\n",
              "\n",
              "    [theme=dark] .colab-df-convert {\n",
              "      background-color: #3B4455;\n",
              "      fill: #D2E3FC;\n",
              "    }\n",
              "\n",
              "    [theme=dark] .colab-df-convert:hover {\n",
              "      background-color: #434B5C;\n",
              "      box-shadow: 0px 1px 3px 1px rgba(0, 0, 0, 0.15);\n",
              "      filter: drop-shadow(0px 1px 2px rgba(0, 0, 0, 0.3));\n",
              "      fill: #FFFFFF;\n",
              "    }\n",
              "  </style>\n",
              "\n",
              "    <script>\n",
              "      const buttonEl =\n",
              "        document.querySelector('#df-7398a426-9d32-400d-9ee6-602c6336188c button.colab-df-convert');\n",
              "      buttonEl.style.display =\n",
              "        google.colab.kernel.accessAllowed ? 'block' : 'none';\n",
              "\n",
              "      async function convertToInteractive(key) {\n",
              "        const element = document.querySelector('#df-7398a426-9d32-400d-9ee6-602c6336188c');\n",
              "        const dataTable =\n",
              "          await google.colab.kernel.invokeFunction('convertToInteractive',\n",
              "                                                    [key], {});\n",
              "        if (!dataTable) return;\n",
              "\n",
              "        const docLinkHtml = 'Like what you see? Visit the ' +\n",
              "          '<a target=\"_blank\" href=https://colab.research.google.com/notebooks/data_table.ipynb>data table notebook</a>'\n",
              "          + ' to learn more about interactive tables.';\n",
              "        element.innerHTML = '';\n",
              "        dataTable['output_type'] = 'display_data';\n",
              "        await google.colab.output.renderOutput(dataTable, element);\n",
              "        const docLink = document.createElement('div');\n",
              "        docLink.innerHTML = docLinkHtml;\n",
              "        element.appendChild(docLink);\n",
              "      }\n",
              "    </script>\n",
              "  </div>\n",
              "\n",
              "\n",
              "<div id=\"df-baabcf96-4217-4483-86ac-1b8e653912f5\">\n",
              "  <button class=\"colab-df-quickchart\" onclick=\"quickchart('df-baabcf96-4217-4483-86ac-1b8e653912f5')\"\n",
              "            title=\"Suggest charts\"\n",
              "            style=\"display:none;\">\n",
              "\n",
              "<svg xmlns=\"http://www.w3.org/2000/svg\" height=\"24px\"viewBox=\"0 0 24 24\"\n",
              "     width=\"24px\">\n",
              "    <g>\n",
              "        <path d=\"M19 3H5c-1.1 0-2 .9-2 2v14c0 1.1.9 2 2 2h14c1.1 0 2-.9 2-2V5c0-1.1-.9-2-2-2zM9 17H7v-7h2v7zm4 0h-2V7h2v10zm4 0h-2v-4h2v4z\"/>\n",
              "    </g>\n",
              "</svg>\n",
              "  </button>\n",
              "\n",
              "<style>\n",
              "  .colab-df-quickchart {\n",
              "      --bg-color: #E8F0FE;\n",
              "      --fill-color: #1967D2;\n",
              "      --hover-bg-color: #E2EBFA;\n",
              "      --hover-fill-color: #174EA6;\n",
              "      --disabled-fill-color: #AAA;\n",
              "      --disabled-bg-color: #DDD;\n",
              "  }\n",
              "\n",
              "  [theme=dark] .colab-df-quickchart {\n",
              "      --bg-color: #3B4455;\n",
              "      --fill-color: #D2E3FC;\n",
              "      --hover-bg-color: #434B5C;\n",
              "      --hover-fill-color: #FFFFFF;\n",
              "      --disabled-bg-color: #3B4455;\n",
              "      --disabled-fill-color: #666;\n",
              "  }\n",
              "\n",
              "  .colab-df-quickchart {\n",
              "    background-color: var(--bg-color);\n",
              "    border: none;\n",
              "    border-radius: 50%;\n",
              "    cursor: pointer;\n",
              "    display: none;\n",
              "    fill: var(--fill-color);\n",
              "    height: 32px;\n",
              "    padding: 0;\n",
              "    width: 32px;\n",
              "  }\n",
              "\n",
              "  .colab-df-quickchart:hover {\n",
              "    background-color: var(--hover-bg-color);\n",
              "    box-shadow: 0 1px 2px rgba(60, 64, 67, 0.3), 0 1px 3px 1px rgba(60, 64, 67, 0.15);\n",
              "    fill: var(--button-hover-fill-color);\n",
              "  }\n",
              "\n",
              "  .colab-df-quickchart-complete:disabled,\n",
              "  .colab-df-quickchart-complete:disabled:hover {\n",
              "    background-color: var(--disabled-bg-color);\n",
              "    fill: var(--disabled-fill-color);\n",
              "    box-shadow: none;\n",
              "  }\n",
              "\n",
              "  .colab-df-spinner {\n",
              "    border: 2px solid var(--fill-color);\n",
              "    border-color: transparent;\n",
              "    border-bottom-color: var(--fill-color);\n",
              "    animation:\n",
              "      spin 1s steps(1) infinite;\n",
              "  }\n",
              "\n",
              "  @keyframes spin {\n",
              "    0% {\n",
              "      border-color: transparent;\n",
              "      border-bottom-color: var(--fill-color);\n",
              "      border-left-color: var(--fill-color);\n",
              "    }\n",
              "    20% {\n",
              "      border-color: transparent;\n",
              "      border-left-color: var(--fill-color);\n",
              "      border-top-color: var(--fill-color);\n",
              "    }\n",
              "    30% {\n",
              "      border-color: transparent;\n",
              "      border-left-color: var(--fill-color);\n",
              "      border-top-color: var(--fill-color);\n",
              "      border-right-color: var(--fill-color);\n",
              "    }\n",
              "    40% {\n",
              "      border-color: transparent;\n",
              "      border-right-color: var(--fill-color);\n",
              "      border-top-color: var(--fill-color);\n",
              "    }\n",
              "    60% {\n",
              "      border-color: transparent;\n",
              "      border-right-color: var(--fill-color);\n",
              "    }\n",
              "    80% {\n",
              "      border-color: transparent;\n",
              "      border-right-color: var(--fill-color);\n",
              "      border-bottom-color: var(--fill-color);\n",
              "    }\n",
              "    90% {\n",
              "      border-color: transparent;\n",
              "      border-bottom-color: var(--fill-color);\n",
              "    }\n",
              "  }\n",
              "</style>\n",
              "\n",
              "  <script>\n",
              "    async function quickchart(key) {\n",
              "      const quickchartButtonEl =\n",
              "        document.querySelector('#' + key + ' button');\n",
              "      quickchartButtonEl.disabled = true;  // To prevent multiple clicks.\n",
              "      quickchartButtonEl.classList.add('colab-df-spinner');\n",
              "      try {\n",
              "        const charts = await google.colab.kernel.invokeFunction(\n",
              "            'suggestCharts', [key], {});\n",
              "      } catch (error) {\n",
              "        console.error('Error during call to suggestCharts:', error);\n",
              "      }\n",
              "      quickchartButtonEl.classList.remove('colab-df-spinner');\n",
              "      quickchartButtonEl.classList.add('colab-df-quickchart-complete');\n",
              "    }\n",
              "    (() => {\n",
              "      let quickchartButtonEl =\n",
              "        document.querySelector('#df-baabcf96-4217-4483-86ac-1b8e653912f5 button');\n",
              "      quickchartButtonEl.style.display =\n",
              "        google.colab.kernel.accessAllowed ? 'block' : 'none';\n",
              "    })();\n",
              "  </script>\n",
              "</div>\n",
              "    </div>\n",
              "  </div>\n"
            ],
            "application/vnd.google.colaboratory.intrinsic+json": {
              "type": "dataframe",
              "variable_name": "df",
              "summary": "{\n  \"name\": \"df\",\n  \"rows\": 150,\n  \"fields\": [\n    {\n      \"column\": \"sepal_length\",\n      \"properties\": {\n        \"dtype\": \"number\",\n        \"std\": 0.828066127977863,\n        \"min\": 4.3,\n        \"max\": 7.9,\n        \"num_unique_values\": 35,\n        \"samples\": [\n          6.2,\n          4.5,\n          5.6\n        ],\n        \"semantic_type\": \"\",\n        \"description\": \"\"\n      }\n    },\n    {\n      \"column\": \"sepal_width\",\n      \"properties\": {\n        \"dtype\": \"number\",\n        \"std\": 0.4335943113621737,\n        \"min\": 2.0,\n        \"max\": 4.4,\n        \"num_unique_values\": 23,\n        \"samples\": [\n          2.3,\n          4.0,\n          3.5\n        ],\n        \"semantic_type\": \"\",\n        \"description\": \"\"\n      }\n    },\n    {\n      \"column\": \"petal_length\",\n      \"properties\": {\n        \"dtype\": \"number\",\n        \"std\": 1.7644204199522626,\n        \"min\": 1.0,\n        \"max\": 6.9,\n        \"num_unique_values\": 43,\n        \"samples\": [\n          6.7,\n          3.8,\n          3.7\n        ],\n        \"semantic_type\": \"\",\n        \"description\": \"\"\n      }\n    },\n    {\n      \"column\": \"petal_width\",\n      \"properties\": {\n        \"dtype\": \"number\",\n        \"std\": 0.7631607417008411,\n        \"min\": 0.1,\n        \"max\": 2.5,\n        \"num_unique_values\": 22,\n        \"samples\": [\n          0.2,\n          1.2,\n          1.3\n        ],\n        \"semantic_type\": \"\",\n        \"description\": \"\"\n      }\n    },\n    {\n      \"column\": \"label\",\n      \"properties\": {\n        \"dtype\": \"category\",\n        \"num_unique_values\": 3,\n        \"samples\": [\n          \"Iris-setosa\",\n          \"Iris-versicolor\",\n          \"Iris-virginica\"\n        ],\n        \"semantic_type\": \"\",\n        \"description\": \"\"\n      }\n    }\n  ]\n}"
            }
          },
          "metadata": {},
          "execution_count": 115
        }
      ],
      "source": [
        "df.head(2)"
      ]
    },
    {
      "cell_type": "code",
      "execution_count": null,
      "id": "18402f32",
      "metadata": {
        "id": "18402f32"
      },
      "outputs": [],
      "source": [
        "random.seed(0)\n",
        "train_data, test_data = train_test_split(df, test_size=20)"
      ]
    },
    {
      "cell_type": "code",
      "execution_count": null,
      "id": "c35884a3",
      "metadata": {
        "id": "c35884a3",
        "outputId": "cb71600a-6647-496d-d76d-0f75b7a5432b",
        "colab": {
          "base_uri": "https://localhost:8080/"
        }
      },
      "outputs": [
        {
          "output_type": "execute_result",
          "data": {
            "text/plain": [
              "array([[5.1, 3.5, 1.4, 0.2, 'Iris-setosa'],\n",
              "       [4.9, 3.0, 1.4, 0.2, 'Iris-setosa'],\n",
              "       [4.7, 3.2, 1.3, 0.2, 'Iris-setosa'],\n",
              "       [4.6, 3.1, 1.5, 0.2, 'Iris-setosa'],\n",
              "       [5.0, 3.6, 1.4, 0.2, 'Iris-setosa']], dtype=object)"
            ]
          },
          "metadata": {},
          "execution_count": 117
        }
      ],
      "source": [
        "data = train_data.values\n",
        "data[:5]"
      ]
    },
    {
      "cell_type": "markdown",
      "id": "cbefb58a",
      "metadata": {
        "id": "cbefb58a"
      },
      "source": [
        "Note: Example Representation of Decision Tree:  \n",
        "example_tree = {\"petal_width <= 0.8\": [\"Iris-setosa\",\n",
        "                                      {\"petal_width <= 1.65\": [{\"petal_length <= 4.9\": [\"Iris-versicolor\",\n",
        "                                                                                        \"Iris-virginica\"]},\n",
        "                                                                \"Iris-virginica\"]}]}"
      ]
    },
    {
      "cell_type": "code",
      "execution_count": null,
      "id": "b64abe0e",
      "metadata": {
        "id": "b64abe0e",
        "outputId": "a0c11ac9-fd26-48ea-90f6-09d71565b990",
        "colab": {
          "base_uri": "https://localhost:8080/"
        }
      },
      "outputs": [
        {
          "output_type": "stream",
          "name": "stdout",
          "text": [
            "{'petal_width <= 0.6': ['Iris-setosa',\n",
            "                        {'petal_width <= 1.6': [{'petal_length <= 4.9': ['Iris-versicolor',\n",
            "                                                                         'Iris-virginica']},\n",
            "                                                'Iris-virginica']}]}\n"
          ]
        }
      ],
      "source": [
        "# Run the Decision Tree classifier on Training data\n",
        "\n",
        "tree = decision_tree_algorithm(train_data, max_depth=3)\n",
        "pprint(tree)"
      ]
    },
    {
      "cell_type": "code",
      "execution_count": null,
      "id": "deb7af13",
      "metadata": {
        "id": "deb7af13",
        "outputId": "4d8f36b3-3056-4dc3-895d-9838433de3c9",
        "colab": {
          "base_uri": "https://localhost:8080/"
        }
      },
      "outputs": [
        {
          "output_type": "stream",
          "name": "stdout",
          "text": [
            "Test accuracy for Iris data is: 0.95\n"
          ]
        }
      ],
      "source": [
        "# Test Accuracy\n",
        "\n",
        "accuracy = calculate_accuracy(test_data, tree)\n",
        "print (\"Test accuracy for Iris data is: \" + str(accuracy))"
      ]
    },
    {
      "cell_type": "code",
      "execution_count": null,
      "id": "02a2280f",
      "metadata": {
        "id": "02a2280f"
      },
      "outputs": [],
      "source": [
        "# Section 2: Train Decision Tree on Titanic data\n",
        "\n",
        "df = pd.read_csv(\"Titanic.csv\")\n",
        "df[\"label\"] = df.Survived\n",
        "df = df.drop([\"PassengerId\", \"Survived\", \"Name\", \"Ticket\", \"Cabin\"], axis=1)\n",
        "\n",
        "# handling missing values\n",
        "median_age = df.Age.median()\n",
        "mode_embarked = df.Embarked.mode()[0]\n",
        "\n",
        "df = df.fillna({\"Age\": median_age, \"Embarked\": mode_embarked})"
      ]
    },
    {
      "cell_type": "code",
      "execution_count": null,
      "id": "8991f1b2",
      "metadata": {
        "id": "8991f1b2",
        "outputId": "703269fd-9e7f-4f3b-a7ac-4157f0e654bc",
        "colab": {
          "base_uri": "https://localhost:8080/"
        }
      },
      "outputs": [
        {
          "output_type": "stream",
          "name": "stdout",
          "text": [
            "Test accuracy for Titanic data is: 0.7808988764044944\n"
          ]
        }
      ],
      "source": [
        "random.seed(0)\n",
        "\n",
        "train_data, test_data = train_test_split(df, 0.2)\n",
        "tree = decision_tree_algorithm(train_data, max_depth=10)\n",
        "accuracy = calculate_accuracy(test_data, tree)\n",
        "print (\"Test accuracy for Titanic data is: \" + str(accuracy))"
      ]
    },
    {
      "cell_type": "code",
      "source": [
        "# pprint(tree)\n",
        "print(tree['Sex = male'][0])"
      ],
      "metadata": {
        "colab": {
          "base_uri": "https://localhost:8080/"
        },
        "id": "a5rNGXel834E",
        "outputId": "3018ed73-d6a7-4758-ccc1-9dd48320200a"
      },
      "id": "a5rNGXel834E",
      "execution_count": null,
      "outputs": [
        {
          "output_type": "stream",
          "name": "stdout",
          "text": [
            "{'Fare <= 9.4833': [{'Age <= 32.0': [{'Age <= 30.5': [{'Fare <= 7.7958': [{'Fare <= 7.7417': [{'Fare <= 7.2292': [{'Age <= 27.0': [{'Age <= 25.0': [0, 1]}, 0]}, 0]}, {'Age <= 19.0': [0, {'Age <= 21.0': [1, 0]}]}]}, {'Age <= 20.0': [{'Fare <= 8.05': [{'Fare <= 7.8958': [0, {'Fare <= 7.925': [1, 0]}]}, 0]}, {'Fare <= 8.4583': [0, {'Fare <= 8.6625': [{'Age <= 26.0': [0, {'Age <= 27.0': [1, 0]}]}, 0]}]}]}]}, {'Fare <= 7.775': [0, {'Fare <= 7.8542': [1, {'Age <= 31.0': [1, 0]}]}]}]}, 0]}, {'Age <= 6.0': [{'Pclass = 3': [{'Fare <= 20.575': [1, {'Fare <= 31.275': [0, {'Fare <= 31.3875': [1, 0]}]}]}, 1]}, {'Pclass = 1': [{'Age <= 52.0': [{'Fare <= 30.5': [{'Fare <= 26.0': [0, {'Fare <= 29.7': [{'Fare <= 26.55': [1, 0]}, 1]}]}, {'Fare <= 227.525': [{'SibSp = 0': [{'Age <= 17.0': [1, 0]}, {'Fare <= 110.8833': [{'Fare <= 57.0': [1, 0]}, 1]}]}, 1]}]}, {'Age <= 71.0': [{'Embarked = S': [0, {'Age <= 56.0': [1, 0]}]}, 1]}]}, {'Age <= 34.0': [{'Fare <= 56.4958': [{'Fare <= 46.9': [{'Embarked = C': [{'Pclass = 3': [{'Parch = 1': [1, 0]}, 0]}, {'Age <= 9.0': [{'SibSp = 4': [0, 1]}, 0]}]}, {'Age <= 28.0': [{'Age <= 26.0': [1, 0]}, 1]}]}, 0]}, {'Fare <= 10.5': [1, 0]}]}]}]}]}\n"
          ]
        }
      ]
    },
    {
      "cell_type": "code",
      "source": [
        "criterion = list(tree.keys())[0]\n",
        "print(criterion)\n",
        "print(tree[criterion])\n",
        "left_tree, right_tree = tree[criterion]\n",
        "print(left_tree)\n",
        "print(right_tree)"
      ],
      "metadata": {
        "colab": {
          "base_uri": "https://localhost:8080/"
        },
        "id": "EtypSeMUrJOV",
        "outputId": "e1f2ec49-eac8-4a37-907f-15f198f64724"
      },
      "id": "EtypSeMUrJOV",
      "execution_count": null,
      "outputs": [
        {
          "output_type": "stream",
          "name": "stdout",
          "text": [
            "Sex = male\n",
            "[{'Fare <= 9.4833': [{'Age <= 32.0': [{'Age <= 30.5': [{'Fare <= 7.7958': [{'Fare <= 7.7417': [{'Fare <= 7.2292': [{'Age <= 27.0': [{'Age <= 25.0': [0, 1]}, 0]}, 0]}, {'Age <= 19.0': [0, {'Age <= 21.0': [1, 0]}]}]}, {'Age <= 20.0': [{'Fare <= 8.05': [{'Fare <= 7.8958': [0, {'Fare <= 7.925': [1, 0]}]}, 0]}, {'Fare <= 8.4583': [0, {'Fare <= 8.6625': [{'Age <= 26.0': [0, {'Age <= 27.0': [1, 0]}]}, 0]}]}]}]}, {'Fare <= 7.775': [0, {'Fare <= 7.8542': [1, {'Age <= 31.0': [1, 0]}]}]}]}, 0]}, {'Age <= 6.0': [{'Pclass = 3': [{'Fare <= 20.575': [1, {'Fare <= 31.275': [0, {'Fare <= 31.3875': [1, 0]}]}]}, 1]}, {'Pclass = 1': [{'Age <= 52.0': [{'Fare <= 30.5': [{'Fare <= 26.0': [0, {'Fare <= 29.7': [{'Fare <= 26.55': [1, 0]}, 1]}]}, {'Fare <= 227.525': [{'SibSp = 0': [{'Age <= 17.0': [1, 0]}, {'Fare <= 110.8833': [{'Fare <= 57.0': [1, 0]}, 1]}]}, 1]}]}, {'Age <= 71.0': [{'Embarked = S': [0, {'Age <= 56.0': [1, 0]}]}, 1]}]}, {'Age <= 34.0': [{'Fare <= 56.4958': [{'Fare <= 46.9': [{'Embarked = C': [{'Pclass = 3': [{'Parch = 1': [1, 0]}, 0]}, {'Age <= 9.0': [{'SibSp = 4': [0, 1]}, 0]}]}, {'Age <= 28.0': [{'Age <= 26.0': [1, 0]}, 1]}]}, 0]}, {'Fare <= 10.5': [1, 0]}]}]}]}]}, {'Pclass = 3': [{'Fare <= 24.15': [{'Age <= 36.0': [{'Embarked = S': [{'Age <= 31.0': [{'Fare <= 16.7': [{'Fare <= 10.5167': [{'Fare <= 9.8417': [{'Age <= 19.0': [1, 0]}, 0]}, {'Fare <= 12.475': [1, {'Fare <= 14.4': [0, 1]}]}]}, {'Fare <= 18.0': [0, {'Fare <= 20.525': [1, 0]}]}]}, 1]}, {'Age <= 16.0': [1, {'Age <= 18.0': [0, {'Age <= 29.0': [{'Fare <= 7.8792': [1, {'Fare <= 15.2458': [0, 1]}]}, 0]}]}]}]}, 0]}, {'Fare <= 31.275': [0, {'Fare <= 31.3875': [1, 0]}]}]}, {'Fare <= 28.7125': [{'Fare <= 27.75': [{'Age <= 23.0': [1, {'Age <= 55.0': [{'Age <= 26.0': [{'Age <= 25.0': [{'Fare <= 13.0': [0, 1]}, 0]}, {'Age <= 36.0': [1, {'Age <= 38.0': [0, 1]}]}]}, {'Fare <= 10.5': [0, 1]}]}]}, 0]}, 1]}]}]\n",
            "{'Fare <= 9.4833': [{'Age <= 32.0': [{'Age <= 30.5': [{'Fare <= 7.7958': [{'Fare <= 7.7417': [{'Fare <= 7.2292': [{'Age <= 27.0': [{'Age <= 25.0': [0, 1]}, 0]}, 0]}, {'Age <= 19.0': [0, {'Age <= 21.0': [1, 0]}]}]}, {'Age <= 20.0': [{'Fare <= 8.05': [{'Fare <= 7.8958': [0, {'Fare <= 7.925': [1, 0]}]}, 0]}, {'Fare <= 8.4583': [0, {'Fare <= 8.6625': [{'Age <= 26.0': [0, {'Age <= 27.0': [1, 0]}]}, 0]}]}]}]}, {'Fare <= 7.775': [0, {'Fare <= 7.8542': [1, {'Age <= 31.0': [1, 0]}]}]}]}, 0]}, {'Age <= 6.0': [{'Pclass = 3': [{'Fare <= 20.575': [1, {'Fare <= 31.275': [0, {'Fare <= 31.3875': [1, 0]}]}]}, 1]}, {'Pclass = 1': [{'Age <= 52.0': [{'Fare <= 30.5': [{'Fare <= 26.0': [0, {'Fare <= 29.7': [{'Fare <= 26.55': [1, 0]}, 1]}]}, {'Fare <= 227.525': [{'SibSp = 0': [{'Age <= 17.0': [1, 0]}, {'Fare <= 110.8833': [{'Fare <= 57.0': [1, 0]}, 1]}]}, 1]}]}, {'Age <= 71.0': [{'Embarked = S': [0, {'Age <= 56.0': [1, 0]}]}, 1]}]}, {'Age <= 34.0': [{'Fare <= 56.4958': [{'Fare <= 46.9': [{'Embarked = C': [{'Pclass = 3': [{'Parch = 1': [1, 0]}, 0]}, {'Age <= 9.0': [{'SibSp = 4': [0, 1]}, 0]}]}, {'Age <= 28.0': [{'Age <= 26.0': [1, 0]}, 1]}]}, 0]}, {'Fare <= 10.5': [1, 0]}]}]}]}]}\n",
            "{'Pclass = 3': [{'Fare <= 24.15': [{'Age <= 36.0': [{'Embarked = S': [{'Age <= 31.0': [{'Fare <= 16.7': [{'Fare <= 10.5167': [{'Fare <= 9.8417': [{'Age <= 19.0': [1, 0]}, 0]}, {'Fare <= 12.475': [1, {'Fare <= 14.4': [0, 1]}]}]}, {'Fare <= 18.0': [0, {'Fare <= 20.525': [1, 0]}]}]}, 1]}, {'Age <= 16.0': [1, {'Age <= 18.0': [0, {'Age <= 29.0': [{'Fare <= 7.8792': [1, {'Fare <= 15.2458': [0, 1]}]}, 0]}]}]}]}, 0]}, {'Fare <= 31.275': [0, {'Fare <= 31.3875': [1, 0]}]}]}, {'Fare <= 28.7125': [{'Fare <= 27.75': [{'Age <= 23.0': [1, {'Age <= 55.0': [{'Age <= 26.0': [{'Age <= 25.0': [{'Fare <= 13.0': [0, 1]}, 0]}, {'Age <= 36.0': [1, {'Age <= 38.0': [0, 1]}]}]}, {'Fare <= 10.5': [0, 1]}]}]}, 0]}, 1]}]}\n"
          ]
        }
      ]
    },
    {
      "cell_type": "code",
      "execution_count": null,
      "id": "6a3d536f",
      "metadata": {
        "id": "6a3d536f"
      },
      "outputs": [],
      "source": [
        "# Section 3: Prune Tree\n",
        "\n",
        "'''\n",
        "This function split the \"data\" into two parts according to the \"criterion\",\n",
        "where \"criterion\" consists of feature_name, comparison_operator, and the value for splitting,\n",
        "and \"data\" is a dataframe object that contains all the data points at this given node of the tree.\n",
        "'''\n",
        "def split_data(data, criterion):\n",
        "    feature, comparison_operator, value = criterion.split()\n",
        "\n",
        "    # continuous feature\n",
        "    if comparison_operator == \"<=\":\n",
        "        left_data = data[data[feature] <= float(value)]\n",
        "        right_data = data[data[feature] >  float(value)]\n",
        "\n",
        "    # categorical feature\n",
        "    else:\n",
        "        left_data = data[data[feature].astype(str) == value]\n",
        "        right_data  = data[data[feature].astype(str) != value]\n",
        "\n",
        "    # Return the two partitions of the data after splitting\n",
        "    return left_data, right_data"
      ]
    },
    {
      "cell_type": "code",
      "execution_count": null,
      "id": "1b971c26",
      "metadata": {
        "id": "1b971c26"
      },
      "outputs": [],
      "source": [
        "'''\n",
        "This function returns the majority label value of data (if classification) or mean label value of data (if regression)\n",
        "'''\n",
        "def get_majority_or_mean_label(data, ml_task=\"classification\"):\n",
        "    # If task is regression, return the mean value of all the labels\n",
        "    if ml_task == \"regression\":\n",
        "        return data.label.mean()\n",
        "\n",
        "    # If classification, return the majority class label\n",
        "    else:\n",
        "        return data.label.value_counts().index[0]"
      ]
    },
    {
      "cell_type": "code",
      "execution_count": null,
      "id": "5fa66143",
      "metadata": {
        "id": "5fa66143"
      },
      "outputs": [],
      "source": [
        "'''\n",
        "This function takes data and a tree object (string if the tree is leaf, or dict object if it is not leaf),\n",
        "makes prediction on the data using the given tree and calculates the error\n",
        "Input:\n",
        "    node: a dataframe object that include all the data points in that given node of the tree\n",
        "    tree: a string/float value (if the tree is a leaf) or a dictionary object(if it is not a leaf) built recursively\n",
        "         in the following format {criterion : [left_subTree, right_subTree]}, where left_subTree and\n",
        "         right_subTree can be either a string/float (if it is leaf) or a dictionary (if it is not a leaf).\n",
        "         To see an example of what the tree object looks like, take a look at the output of one of the cells above.\n",
        "'''\n",
        "def calculate_error(data, tree, ml_task=\"classification\"):\n",
        "    prediction_labels = make_predictions(data, tree)\n",
        "    actual_labels = data.label\n",
        "\n",
        "    if ml_task == \"regression\":\n",
        "        # mean squared error\n",
        "        return ((prediction_labels - actual_labels) **2).mean()\n",
        "    else:\n",
        "        # number of errors\n",
        "        return sum(prediction_labels != actual_labels)"
      ]
    },
    {
      "cell_type": "code",
      "execution_count": null,
      "id": "7732c0eb",
      "metadata": {
        "id": "7732c0eb"
      },
      "outputs": [],
      "source": [
        "'''\n",
        "This is a helper function that may be invoked in the prune_algorithm() to decide whether to prune the tree or not.\n",
        "This function takes a tree object, training_data, validation_data as the input.\n",
        "The intuition behind this function is that it checks whether predicting with the given tree produces a better outcome than simply\n",
        "getting the majority/mean label from the training data. The way we check this is to use a validation dataset. We first\n",
        "compute the error of making prediction on the validation data using just the majority/mean label of the training data.\n",
        "We then compute the error of making prediction on the validation data using the tree. If the former is better\n",
        "than the latter, we discard the tree and simply return the majority class label (i.e. we prune the tree). Otherwise,\n",
        "we keep the original tree and return it.\n",
        "'''\n",
        "def prune_tree_helper(tree, data_train, data_val, ml_task=\"classification\"):\n",
        "\n",
        "    majority_label = get_majority_or_mean_label(data_train, ml_task)\n",
        "    errors_using_majority_label = calculate_error(data_val, majority_label, ml_task)\n",
        "\n",
        "    errors_using_tree = calculate_error(data_val, tree, ml_task)\n",
        "\n",
        "    if errors_using_majority_label <= errors_using_tree:\n",
        "        return majority_label\n",
        "    else:\n",
        "        return tree"
      ]
    },
    {
      "cell_type": "code",
      "execution_count": null,
      "id": "789f7329",
      "metadata": {
        "id": "789f7329"
      },
      "outputs": [],
      "source": [
        "'''\n",
        "TODO: Complete the implementation of this function\n",
        "\n",
        "This function takes a given tree, training data, and validation data, and prune the tree based on the\n",
        "prediction performance on the validation data at each node of the tree. This function will be implemented\n",
        "recursively.\n",
        "\n",
        "Input:\n",
        "    cur_tree: a dict object (if the tree is not a leaf), or a string/float value (if the tree is a leaf)\n",
        "    data_train: a dataframe object represents the training data at this given node of the tree\n",
        "    data_val: a dataframe object represents the validation data at this given node of the tree\n",
        "    ml_task: a string that is either \"regression\" or \"classification\"\n",
        "Return:\n",
        "    a tree that is pruned (a string/float value if the tree is a single leaf, or a dict object if\n",
        "    the tree has branches)\n",
        "'''\n",
        "\n",
        "def prune_algorithm(cur_tree, data_train, data_val, ml_task=\"classification\"):\n",
        "\n",
        "    if not isinstance(cur_tree, dict):\n",
        "        ################################################################\n",
        "        # Base case: if tree is a single leaf, just return the tree\n",
        "        # TODO: ~1 line of code expected\n",
        "        #\n",
        "        ################################################################\n",
        "        return cur_tree\n",
        "\n",
        "\n",
        "    else:\n",
        "        criterion = list(cur_tree.keys())[0]\n",
        "        left_tree, right_tree = cur_tree[criterion]\n",
        "        left_data_train,right_data_train = split_data(data_train,criterion)\n",
        "        left_data_val,right_data_val=split_data(data_val,criterion)\n",
        "        pruned_left_tree= prune_algorithm(left_tree,left_data_train,left_data_val,ml_task)\n",
        "        pruned_right_tree= prune_algorithm(right_tree,right_data_train,right_data_val,ml_task)\n",
        "        cur_tree = {criterion: [pruned_left_tree, pruned_right_tree]}\n",
        "        result = prune_tree_helper(cur_tree,data_train,data_val,ml_task)\n",
        "        if not isinstance(result, dict):\n",
        "          cur_tree = result\n",
        "        return cur_tree\n",
        "\n",
        "        ################################################################\n",
        "        # Recursive case: if tree has branches, do the following steps\n",
        "        # 1. split data_train into two parts \"data_train_left\" and \"data_train_right\" based on the \"criterion\"\n",
        "        #    (hint: use split_data method)\n",
        "        # 2. split data_val into two parts \"data_val_left\" and \"data_val_right\" based on the \"criterion\"\n",
        "        #    (hint: use split_data method)\n",
        "        # 3. recursively call prune_algorithm on left_tree, data_train_left, data_val_left to get the pruned left tree\n",
        "        # 4. recursively call prune_algorithm on right_tree, data_train_right, data_val_right to get the pruned right tree\n",
        "        # 5. Update the cur_tree as cur_tree = {criterion: [pruned_left_tree, pruned_right_tree]}\n",
        "        # 6. Prune the cur_tree that is updated in step 5 and return the pruned tree (if the tree doesn't need to be\n",
        "        #    pruned, just return cur_tree.(hint: you may use prune_tree_helper to decide whether to prune a tree or not)\n",
        "        # TODO: ~6 line of code expected\n",
        "        #\n",
        "        ################################################################\n",
        "\n",
        "\n",
        "\n"
      ]
    },
    {
      "cell_type": "code",
      "execution_count": null,
      "id": "4819f499",
      "metadata": {
        "id": "4819f499"
      },
      "outputs": [],
      "source": [
        "'''\n",
        "After you implemented prune_algorithm function, run the following cells to compare the test\n",
        "accuracy of pre-pruned tree and post-pruned tree on TiTanic Dataset. You will get a plot that\n",
        "compares the two. No modification of code is needed.\n",
        "'''\n",
        "\n",
        "# Load Titanic Data\n",
        "\n",
        "df = pd.read_csv(\"Titanic.csv\")\n",
        "df[\"label\"] = df.Survived\n",
        "df = df.drop([\"PassengerId\", \"Survived\", \"Name\", \"Ticket\", \"Cabin\"], axis=1)\n",
        "\n",
        "# handling missing values\n",
        "median_age = df.Age.median()\n",
        "mode_embarked = df.Embarked.mode()[0]\n",
        "\n",
        "df = df.fillna({\"Age\": median_age, \"Embarked\": mode_embarked})"
      ]
    },
    {
      "cell_type": "code",
      "execution_count": 138,
      "id": "82fefb27",
      "metadata": {
        "id": "82fefb27",
        "colab": {
          "base_uri": "https://localhost:8080/"
        },
        "outputId": "d6d2da5c-8e8f-475a-fa43-914b9cb1c7b7"
      },
      "outputs": [
        {
          "output_type": "stream",
          "name": "stdout",
          "text": [
            "anu {'max_depth': [10, 11, 12, 13, 14, 15, 16, 17, 18, 19, 20, 21, 22, 23, 24, 25], 'acc_tree': [0.8059701492537313, 0.7835820895522388, 0.746268656716418, 0.8208955223880597, 0.7985074626865671, 0.753731343283582, 0.8283582089552238, 0.7761194029850746, 0.835820895522388, 0.7910447761194029, 0.7238805970149254, 0.7910447761194029, 0.7313432835820896, 0.746268656716418, 0.7611940298507462, 0.7835820895522388], 'acc_tree_pruned': [0.8059701492537313, 0.8208955223880597, 0.8134328358208955, 0.7910447761194029, 0.8432835820895522, 0.8134328358208955, 0.8134328358208955, 0.8283582089552238, 0.8805970149253731, 0.8059701492537313, 0.7761194029850746, 0.8208955223880597, 0.7761194029850746, 0.8059701492537313, 0.8283582089552238, 0.8283582089552238]}\n"
          ]
        }
      ],
      "source": [
        "# Compare test accuracy of Decision Tree before and after pruning\n",
        "random.seed(1)\n",
        "metrics = {\"max_depth\": [], \"acc_tree\": [], \"acc_tree_pruned\": []}\n",
        "for n in range(10, 26):\n",
        "    df_train, df_test = train_test_split(df, test_size=0.15)\n",
        "    df_train, df_val = train_test_split(df_train, test_size=0.15)\n",
        "\n",
        "    tree = decision_tree_algorithm(df_train, ml_task=\"classification\", max_depth=n)\n",
        "    tree_pruned = prune_algorithm(tree, df_train, df_val, ml_task=\"classification\")\n",
        "\n",
        "    metrics[\"max_depth\"].append(n)\n",
        "    metrics[\"acc_tree\"].append(calculate_accuracy(df_test, tree))\n",
        "    metrics[\"acc_tree_pruned\"].append(calculate_accuracy(df_test, tree_pruned))\n",
        "\n",
        "print('anu',metrics)\n",
        "df_metrics = pd.DataFrame(metrics)\n",
        "df_metrics = df_metrics.set_index(\"max_depth\")"
      ]
    },
    {
      "cell_type": "code",
      "execution_count": 139,
      "id": "d5e08dc0",
      "metadata": {
        "id": "d5e08dc0",
        "colab": {
          "base_uri": "https://localhost:8080/",
          "height": 482
        },
        "outputId": "c9dac5cc-cf36-46c2-abdb-0c4611e84ff3"
      },
      "outputs": [
        {
          "output_type": "execute_result",
          "data": {
            "text/plain": [
              "<Axes: xlabel='max_depth'>"
            ]
          },
          "metadata": {},
          "execution_count": 139
        },
        {
          "output_type": "display_data",
          "data": {
            "text/plain": [
              "<Figure size 1200x500 with 1 Axes>"
            ],
            "image/png": "[encoded data removed]"
          },
          "metadata": {}
        }
      ],
      "source": [
        "# Plot\n",
        "df_metrics.plot(figsize=(12, 5), marker=\"o\")"
      ]
    }
  ],
  "metadata": {
    "kernelspec": {
      "display_name": "Python 3",
      "language": "python",
      "name": "python3"
    },
    "language_info": {
      "codemirror_mode": {
        "name": "ipython",
        "version": 3
      },
      "file_extension": ".py",
      "mimetype": "text/x-python",
      "name": "python",
      "nbconvert_exporter": "python",
      "pygments_lexer": "ipython3",
      "version": "3.8.8"
    },
    "colab": {
      "provenance": []
    }
  },
  "nbformat": 4,
  "nbformat_minor": 5
}