{
  "cells": [
    {
      "cell_type": "markdown",
      "id": "67ea3f63",
      "metadata": {},
      "source": [
        "Import required Libraries "
      ]
    },
    {
      "cell_type": "code",
      "execution_count": 1,
      "id": "fef1d66b",
      "metadata": {
        "id": "fef1d66b"
      },
      "outputs": [],
      "source": [
        "import numpy as np\n",
        "import warnings\n",
        "warnings.simplefilter(action='ignore', category=FutureWarning)\n",
        "\n",
        "import pandas as pd\n",
        "import matplotlib.pyplot as plt\n",
        "import seaborn as sns\n",
        "import random\n",
        "from pprint import pprint\n",
        "from decision_tree_functions import *\n",
        "from helper_functions import *"
      ]
    },
    {
      "cell_type": "code",
      "execution_count": 2,
      "id": "fd2526b4",
      "metadata": {
        "id": "fd2526b4"
      },
      "outputs": [],
      "source": [
        "%matplotlib inline\n",
        "sns.set_style(\"darkgrid\")"
      ]
    },
    {
      "cell_type": "markdown",
      "id": "0bc0450a",
      "metadata": {},
      "source": [
        "Loading Iris DataSet"
      ]
    },
    {
      "cell_type": "code",
      "execution_count": 3,
      "id": "4ccc8d37",
      "metadata": {
        "id": "4ccc8d37"
      },
      "outputs": [],
      "source": [
        "df = pd.read_csv(\"Iris.csv\")\n",
        "df = df.drop(\"Id\", axis=1)\n",
        "df = df.rename(columns={\"species\": \"label\"})"
      ]
    },
    {
      "cell_type": "code",
      "execution_count": 4,
      "id": "60fdf9e6",
      "metadata": {
        "colab": {
          "base_uri": "https://localhost:8080/",
          "height": 112
        },
        "id": "60fdf9e6",
        "outputId": "fe575257-b49b-436b-8928-d4f55dd54e4e"
      },
      "outputs": [
        {
          "data": {
            "text/html": [
              "<div>\n",
              "<style scoped>\n",
              "    .dataframe tbody tr th:only-of-type {\n",
              "        vertical-align: middle;\n",
              "    }\n",
              "\n",
              "    .dataframe tbody tr th {\n",
              "        vertical-align: top;\n",
              "    }\n",
              "\n",
              "    .dataframe thead th {\n",
              "        text-align: right;\n",
              "    }\n",
              "</style>\n",
              "<table border=\"1\" class=\"dataframe\">\n",
              "  <thead>\n",
              "    <tr style=\"text-align: right;\">\n",
              "      <th></th>\n",
              "      <th>sepal_length</th>\n",
              "      <th>sepal_width</th>\n",
              "      <th>petal_length</th>\n",
              "      <th>petal_width</th>\n",
              "      <th>label</th>\n",
              "    </tr>\n",
              "  </thead>\n",
              "  <tbody>\n",
              "    <tr>\n",
              "      <th>0</th>\n",
              "      <td>5.1</td>\n",
              "      <td>3.5</td>\n",
              "      <td>1.4</td>\n",
              "      <td>0.2</td>\n",
              "      <td>Iris-setosa</td>\n",
              "    </tr>\n",
              "    <tr>\n",
              "      <th>1</th>\n",
              "      <td>4.9</td>\n",
              "      <td>3.0</td>\n",
              "      <td>1.4</td>\n",
              "      <td>0.2</td>\n",
              "      <td>Iris-setosa</td>\n",
              "    </tr>\n",
              "  </tbody>\n",
              "</table>\n",
              "</div>"
            ],
            "text/plain": [
              "   sepal_length  sepal_width  petal_length  petal_width        label\n",
              "0           5.1          3.5           1.4          0.2  Iris-setosa\n",
              "1           4.9          3.0           1.4          0.2  Iris-setosa"
            ]
          },
          "execution_count": 4,
          "metadata": {},
          "output_type": "execute_result"
        }
      ],
      "source": [
        "df.head(2)"
      ]
    },
    {
      "cell_type": "markdown",
      "id": "d4c7a908",
      "metadata": {},
      "source": [
        "Splitting Data into Train and Test"
      ]
    },
    {
      "cell_type": "code",
      "execution_count": 5,
      "id": "18402f32",
      "metadata": {
        "id": "18402f32"
      },
      "outputs": [],
      "source": [
        "random.seed(0)\n",
        "train_data, test_data = train_test_split(df, test_size=20)"
      ]
    },
    {
      "cell_type": "code",
      "execution_count": 6,
      "id": "c35884a3",
      "metadata": {
        "colab": {
          "base_uri": "https://localhost:8080/"
        },
        "id": "c35884a3",
        "outputId": "cb71600a-6647-496d-d76d-0f75b7a5432b"
      },
      "outputs": [
        {
          "data": {
            "text/plain": [
              "array([[5.1, 3.5, 1.4, 0.2, 'Iris-setosa'],\n",
              "       [4.9, 3.0, 1.4, 0.2, 'Iris-setosa'],\n",
              "       [4.7, 3.2, 1.3, 0.2, 'Iris-setosa'],\n",
              "       [4.6, 3.1, 1.5, 0.2, 'Iris-setosa'],\n",
              "       [5.0, 3.6, 1.4, 0.2, 'Iris-setosa']], dtype=object)"
            ]
          },
          "execution_count": 6,
          "metadata": {},
          "output_type": "execute_result"
        }
      ],
      "source": [
        "data = train_data.values\n",
        "data[:5]"
      ]
    },
    {
      "cell_type": "markdown",
      "id": "cbefb58a",
      "metadata": {
        "id": "cbefb58a"
      },
      "source": [
        "Note: Example Representation of Decision Tree:  \n",
        "example_tree = {\"petal_width <= 0.8\": [\"Iris-setosa\",\n",
        "                                      {\"petal_width <= 1.65\": [{\"petal_length <= 4.9\": [\"Iris-versicolor\",\n",
        "                                                                                        \"Iris-virginica\"]},\n",
        "                                                                \"Iris-virginica\"]}]}"
      ]
    },
    {
      "cell_type": "markdown",
      "id": "be1e0907",
      "metadata": {},
      "source": [
        "Run the Decision Tree classifier on Training data"
      ]
    },
    {
      "cell_type": "code",
      "execution_count": 7,
      "id": "b64abe0e",
      "metadata": {
        "colab": {
          "base_uri": "https://localhost:8080/"
        },
        "id": "b64abe0e",
        "outputId": "a0c11ac9-fd26-48ea-90f6-09d71565b990"
      },
      "outputs": [
        {
          "name": "stdout",
          "output_type": "stream",
          "text": [
            "{'petal_width <= 0.6': ['Iris-setosa',\n",
            "                        {'petal_width <= 1.6': [{'petal_length <= 4.9': ['Iris-versicolor',\n",
            "                                                                         'Iris-virginica']},\n",
            "                                                'Iris-virginica']}]}\n"
          ]
        }
      ],
      "source": [
        "tree = decision_tree_algorithm(train_data, max_depth=3)\n",
        "pprint(tree)"
      ]
    },
    {
      "cell_type": "markdown",
      "id": "64126fb3",
      "metadata": {},
      "source": [
        "Calculating the accuracy of the tree model"
      ]
    },
    {
      "cell_type": "code",
      "execution_count": 8,
      "id": "deb7af13",
      "metadata": {
        "colab": {
          "base_uri": "https://localhost:8080/"
        },
        "id": "deb7af13",
        "outputId": "4d8f36b3-3056-4dc3-895d-9838433de3c9"
      },
      "outputs": [
        {
          "name": "stdout",
          "output_type": "stream",
          "text": [
            "Test accuracy for Iris data is: 0.95\n"
          ]
        }
      ],
      "source": [
        "accuracy = calculate_accuracy(test_data, tree)\n",
        "print (\"Test accuracy for Iris data is: \" + str(accuracy))"
      ]
    },
    {
      "cell_type": "markdown",
      "id": "9f3fde51",
      "metadata": {},
      "source": [
        "Loading and Preparing Titanic DataSet"
      ]
    },
    {
      "cell_type": "code",
      "execution_count": 9,
      "id": "02a2280f",
      "metadata": {
        "id": "02a2280f"
      },
      "outputs": [],
      "source": [
        "df = pd.read_csv(\"Titanic.csv\")\n",
        "df[\"label\"] = df.Survived\n",
        "df = df.drop([\"PassengerId\", \"Survived\", \"Name\", \"Ticket\", \"Cabin\"], axis=1)\n",
        "\n",
        "# handling missing values\n",
        "median_age = df.Age.median()\n",
        "mode_embarked = df.Embarked.mode()[0]\n",
        "\n",
        "df = df.fillna({\"Age\": median_age, \"Embarked\": mode_embarked})"
      ]
    },
    {
      "cell_type": "markdown",
      "id": "9598f4dc",
      "metadata": {},
      "source": [
        "Training on Titanic Dataset, Testing Accuracy of the model"
      ]
    },
    {
      "cell_type": "code",
      "execution_count": 10,
      "id": "8991f1b2",
      "metadata": {
        "colab": {
          "base_uri": "https://localhost:8080/"
        },
        "id": "8991f1b2",
        "outputId": "703269fd-9e7f-4f3b-a7ac-4157f0e654bc"
      },
      "outputs": [
        {
          "name": "stdout",
          "output_type": "stream",
          "text": [
            "Test accuracy for Titanic data is: 0.7808988764044944\n"
          ]
        }
      ],
      "source": [
        "random.seed(0)\n",
        "train_data, test_data = train_test_split(df, 0.2)\n",
        "tree = decision_tree_algorithm(train_data, max_depth=10)\n",
        "accuracy = calculate_accuracy(test_data, tree)\n",
        "print (\"Test accuracy for Titanic data is: \" + str(accuracy))"
      ]
    },
    {
      "cell_type": "code",
      "execution_count": 11,
      "id": "a5rNGXel834E",
      "metadata": {
        "colab": {
          "base_uri": "https://localhost:8080/"
        },
        "id": "a5rNGXel834E",
        "outputId": "3018ed73-d6a7-4758-ccc1-9dd48320200a"
      },
      "outputs": [
        {
          "name": "stdout",
          "output_type": "stream",
          "text": [
            "{'Fare <= 9.4833': [{'Age <= 32.0': [{'Age <= 30.5': [{'Fare <= 7.7958': [{'Fare <= 7.7417': [{'Fare <= 7.2292': [{'Age <= 27.0': [{'Age <= 25.0': [0, 1]}, 0]}, 0]}, {'Age <= 19.0': [0, {'Age <= 21.0': [1, 0]}]}]}, {'Age <= 20.0': [{'Fare <= 8.05': [{'Fare <= 7.8958': [0, {'Fare <= 7.925': [1, 0]}]}, 0]}, {'Fare <= 8.4583': [0, {'Fare <= 8.6625': [{'Age <= 26.0': [0, {'Age <= 27.0': [1, 0]}]}, 0]}]}]}]}, {'Fare <= 7.775': [0, {'Fare <= 7.8542': [1, {'Age <= 31.0': [1, 0]}]}]}]}, 0]}, {'Age <= 6.0': [{'Pclass = 3': [{'Fare <= 20.575': [1, {'Fare <= 31.275': [0, {'Fare <= 31.3875': [1, 0]}]}]}, 1]}, {'Pclass = 1': [{'Age <= 52.0': [{'Fare <= 30.5': [{'Fare <= 26.0': [0, {'Fare <= 29.7': [{'Fare <= 26.55': [1, 0]}, 1]}]}, {'Fare <= 227.525': [{'SibSp = 0': [{'Age <= 17.0': [1, 0]}, {'Fare <= 110.8833': [{'Fare <= 57.0': [1, 0]}, 1]}]}, 1]}]}, {'Age <= 71.0': [{'Embarked = S': [0, {'Age <= 56.0': [1, 0]}]}, 1]}]}, {'Age <= 34.0': [{'Fare <= 56.4958': [{'Fare <= 46.9': [{'Embarked = C': [{'Pclass = 3': [{'Parch = 1': [1, 0]}, 0]}, {'Age <= 9.0': [{'SibSp = 4': [0, 1]}, 0]}]}, {'Age <= 28.0': [{'Age <= 26.0': [1, 0]}, 1]}]}, 0]}, {'Fare <= 10.5': [1, 0]}]}]}]}]}\n"
          ]
        }
      ],
      "source": [
        "print(tree['Sex = male'][0])"
      ]
    },
    {
      "cell_type": "markdown",
      "id": "78c1f320",
      "metadata": {},
      "source": [
        "Looking at the root criterion and the left and right subtree"
      ]
    },
    {
      "cell_type": "code",
      "execution_count": 12,
      "id": "EtypSeMUrJOV",
      "metadata": {
        "colab": {
          "base_uri": "https://localhost:8080/"
        },
        "id": "EtypSeMUrJOV",
        "outputId": "e1f2ec49-eac8-4a37-907f-15f198f64724"
      },
      "outputs": [
        {
          "name": "stdout",
          "output_type": "stream",
          "text": [
            "Sex = male\n",
            "{'Fare <= 9.4833': [{'Age <= 32.0': [{'Age <= 30.5': [{'Fare <= 7.7958': [{'Fare <= 7.7417': [{'Fare <= 7.2292': [{'Age <= 27.0': [{'Age <= 25.0': [0, 1]}, 0]}, 0]}, {'Age <= 19.0': [0, {'Age <= 21.0': [1, 0]}]}]}, {'Age <= 20.0': [{'Fare <= 8.05': [{'Fare <= 7.8958': [0, {'Fare <= 7.925': [1, 0]}]}, 0]}, {'Fare <= 8.4583': [0, {'Fare <= 8.6625': [{'Age <= 26.0': [0, {'Age <= 27.0': [1, 0]}]}, 0]}]}]}]}, {'Fare <= 7.775': [0, {'Fare <= 7.8542': [1, {'Age <= 31.0': [1, 0]}]}]}]}, 0]}, {'Age <= 6.0': [{'Pclass = 3': [{'Fare <= 20.575': [1, {'Fare <= 31.275': [0, {'Fare <= 31.3875': [1, 0]}]}]}, 1]}, {'Pclass = 1': [{'Age <= 52.0': [{'Fare <= 30.5': [{'Fare <= 26.0': [0, {'Fare <= 29.7': [{'Fare <= 26.55': [1, 0]}, 1]}]}, {'Fare <= 227.525': [{'SibSp = 0': [{'Age <= 17.0': [1, 0]}, {'Fare <= 110.8833': [{'Fare <= 57.0': [1, 0]}, 1]}]}, 1]}]}, {'Age <= 71.0': [{'Embarked = S': [0, {'Age <= 56.0': [1, 0]}]}, 1]}]}, {'Age <= 34.0': [{'Fare <= 56.4958': [{'Fare <= 46.9': [{'Embarked = C': [{'Pclass = 3': [{'Parch = 1': [1, 0]}, 0]}, {'Age <= 9.0': [{'SibSp = 4': [0, 1]}, 0]}]}, {'Age <= 28.0': [{'Age <= 26.0': [1, 0]}, 1]}]}, 0]}, {'Fare <= 10.5': [1, 0]}]}]}]}]}\n",
            "{'Pclass = 3': [{'Fare <= 24.15': [{'Age <= 36.0': [{'Embarked = S': [{'Age <= 31.0': [{'Fare <= 16.7': [{'Fare <= 10.5167': [{'Fare <= 9.8417': [{'Age <= 19.0': [1, 0]}, 0]}, {'Fare <= 12.475': [1, {'Fare <= 14.4': [0, 1]}]}]}, {'Fare <= 18.0': [0, {'Fare <= 20.525': [1, 0]}]}]}, 1]}, {'Age <= 16.0': [1, {'Age <= 18.0': [0, {'Age <= 29.0': [{'Fare <= 7.8792': [1, {'Fare <= 15.2458': [0, 1]}]}, 0]}]}]}]}, 0]}, {'Fare <= 31.275': [0, {'Fare <= 31.3875': [1, 0]}]}]}, {'Fare <= 28.7125': [{'Fare <= 27.75': [{'Age <= 23.0': [1, {'Age <= 55.0': [{'Age <= 26.0': [{'Age <= 25.0': [{'Fare <= 13.0': [0, 1]}, 0]}, {'Age <= 36.0': [1, {'Age <= 38.0': [0, 1]}]}]}, {'Fare <= 10.5': [0, 1]}]}]}, 0]}, 1]}]}\n"
          ]
        }
      ],
      "source": [
        "criterion = list(tree.keys())[0]\n",
        "print(criterion)\n",
        "# print(tree[criterion])\n",
        "left_tree, right_tree = tree[criterion]\n",
        "print(left_tree)\n",
        "print(right_tree)"
      ]
    },
    {
      "cell_type": "code",
      "execution_count": 13,
      "id": "6a3d536f",
      "metadata": {
        "id": "6a3d536f"
      },
      "outputs": [],
      "source": [
        "'''\n",
        "This function split the \"data\" into two parts according to the \"criterion\",\n",
        "where \"criterion\" consists of feature_name, comparison_operator, and the value for splitting,\n",
        "and \"data\" is a dataframe object that contains all the data points at this given node of the tree.\n",
        "'''\n",
        "def split_data(data, criterion):\n",
        "    feature, comparison_operator, value = criterion.split()\n",
        "\n",
        "    # continuous feature\n",
        "    if comparison_operator == \"<=\":\n",
        "        left_data = data[data[feature] <= float(value)]\n",
        "        right_data = data[data[feature] >  float(value)]\n",
        "\n",
        "    # categorical feature\n",
        "    else:\n",
        "        left_data = data[data[feature].astype(str) == value]\n",
        "        right_data  = data[data[feature].astype(str) != value]\n",
        "\n",
        "    # Return the two partitions of the data after splitting\n",
        "    return left_data, right_data"
      ]
    },
    {
      "cell_type": "code",
      "execution_count": 14,
      "id": "1b971c26",
      "metadata": {
        "id": "1b971c26"
      },
      "outputs": [],
      "source": [
        "'''\n",
        "This function returns the majority label value of data (if classification) or mean label value of data (if regression)\n",
        "'''\n",
        "def get_majority_or_mean_label(data, ml_task=\"classification\"):\n",
        "    # If task is regression, return the mean value of all the labels\n",
        "    if ml_task == \"regression\":\n",
        "        return data.label.mean()\n",
        "\n",
        "    # If classification, return the majority class label\n",
        "    else:\n",
        "        return data.label.value_counts().index[0]"
      ]
    },
    {
      "cell_type": "code",
      "execution_count": 15,
      "id": "5fa66143",
      "metadata": {
        "id": "5fa66143"
      },
      "outputs": [],
      "source": [
        "'''\n",
        "This function takes data and a tree object (string if the tree is leaf, or dict object if it is not leaf),\n",
        "makes prediction on the data using the given tree and calculates the error\n",
        "Input:\n",
        "    node: a dataframe object that include all the data points in that given node of the tree\n",
        "    tree: a string/float value (if the tree is a leaf) or a dictionary object(if it is not a leaf) built recursively\n",
        "         in the following format {criterion : [left_subTree, right_subTree]}, where left_subTree and\n",
        "         right_subTree can be either a string/float (if it is leaf) or a dictionary (if it is not a leaf).\n",
        "         To see an example of what the tree object looks like, take a look at the output of one of the cells above.\n",
        "'''\n",
        "def calculate_error(data, tree, ml_task=\"classification\"):\n",
        "    prediction_labels = make_predictions(data, tree)\n",
        "    actual_labels = data.label\n",
        "\n",
        "    if ml_task == \"regression\":\n",
        "        # mean squared error\n",
        "        return ((prediction_labels - actual_labels) **2).mean()\n",
        "    else:\n",
        "        # number of errors\n",
        "        return sum(prediction_labels != actual_labels)"
      ]
    },
    {
      "cell_type": "code",
      "execution_count": 16,
      "id": "7732c0eb",
      "metadata": {
        "id": "7732c0eb"
      },
      "outputs": [],
      "source": [
        "'''\n",
        "This is a helper function that may be invoked in the prune_algorithm() to decide whether to prune the tree or not.\n",
        "This function takes a tree object, training_data, validation_data as the input.\n",
        "The intuition behind this function is that it checks whether predicting with the given tree produces a better outcome than simply\n",
        "getting the majority/mean label from the training data. The way we check this is to use a validation dataset. We first\n",
        "compute the error of making prediction on the validation data using just the majority/mean label of the training data.\n",
        "We then compute the error of making prediction on the validation data using the tree. If the former is better\n",
        "than the latter, we discard the tree and simply return the majority class label (i.e. we prune the tree). Otherwise,\n",
        "we keep the original tree and return it.\n",
        "'''\n",
        "def prune_tree_helper(tree, data_train, data_val, ml_task=\"classification\"):\n",
        "\n",
        "    majority_label = get_majority_or_mean_label(data_train, ml_task)\n",
        "    errors_using_majority_label = calculate_error(data_val, majority_label, ml_task)\n",
        "\n",
        "    errors_using_tree = calculate_error(data_val, tree, ml_task)\n",
        "\n",
        "    if errors_using_majority_label <= errors_using_tree:\n",
        "        return majority_label\n",
        "    else:\n",
        "        return tree"
      ]
    },
    {
      "cell_type": "code",
      "execution_count": 17,
      "id": "789f7329",
      "metadata": {
        "id": "789f7329"
      },
      "outputs": [],
      "source": [
        "'''\n",
        "This function takes a given tree, training data, and validation data, and prune the tree based on the\n",
        "prediction performance on the validation data at each node of the tree. This function will be implemented\n",
        "recursively.\n",
        "Input:\n",
        "    cur_tree: a dict object (if the tree is not a leaf), or a string/float value (if the tree is a leaf)\n",
        "    data_train: a dataframe object represents the training data at this given node of the tree\n",
        "    data_val: a dataframe object represents the validation data at this given node of the tree\n",
        "    ml_task: a string that is either \"regression\" or \"classification\"\n",
        "Return:\n",
        "    a tree that is pruned (a string/float value if the tree is a single leaf, or a dict object if\n",
        "    the tree has branches)\n",
        "'''\n",
        "\n",
        "def prune_algorithm(cur_tree, data_train, data_val, ml_task=\"classification\"):\n",
        "\n",
        "    if not isinstance(cur_tree, dict):\n",
        "        ################################################################\n",
        "        # Base case: if tree is a single leaf, just return the tree\n",
        "        ################################################################\n",
        "        return cur_tree\n",
        "\n",
        "\n",
        "    else:\n",
        "        criterion = list(cur_tree.keys())[0]\n",
        "        left_tree, right_tree = cur_tree[criterion]\n",
        "        left_data_train,right_data_train = split_data(data_train,criterion)\n",
        "        left_data_val,right_data_val=split_data(data_val,criterion)\n",
        "        pruned_left_tree= prune_algorithm(left_tree,left_data_train,left_data_val,ml_task)\n",
        "        pruned_right_tree= prune_algorithm(right_tree,right_data_train,right_data_val,ml_task)\n",
        "        cur_tree = {criterion: [pruned_left_tree, pruned_right_tree]}\n",
        "        result = prune_tree_helper(cur_tree,data_train,data_val,ml_task)\n",
        "        if not isinstance(result, dict):\n",
        "          cur_tree = result\n",
        "        return cur_tree\n",
        "\n",
        "        ################################################################\n",
        "        # Recursive case: if tree has branches, do the following steps\n",
        "        # 1. split data_train into two parts \"data_train_left\" and \"data_train_right\" based on the \"criterion\"\n",
        "        #    (hint: use split_data method)\n",
        "        # 2. split data_val into two parts \"data_val_left\" and \"data_val_right\" based on the \"criterion\"\n",
        "        #    (hint: use split_data method)\n",
        "        # 3. recursively call prune_algorithm on left_tree, data_train_left, data_val_left to get the pruned left tree\n",
        "        # 4. recursively call prune_algorithm on right_tree, data_train_right, data_val_right to get the pruned right tree\n",
        "        # 5. Update the cur_tree as cur_tree = {criterion: [pruned_left_tree, pruned_right_tree]}\n",
        "        # 6. Prune the cur_tree that is updated in step 5 and return the pruned tree (if the tree doesn't need to be\n",
        "        #    pruned, just return cur_tree.\n",
        "        ################################################################\n"
      ]
    },
    {
      "cell_type": "code",
      "execution_count": 18,
      "id": "4819f499",
      "metadata": {
        "id": "4819f499"
      },
      "outputs": [],
      "source": [
        "'''\n",
        "run the following cells to compare the test\n",
        "accuracy of pre-pruned tree and post-pruned tree on TiTanic Dataset\n",
        "'''\n",
        "# Load Titanic Data\n",
        "\n",
        "df = pd.read_csv(\"Titanic.csv\")\n",
        "df[\"label\"] = df.Survived\n",
        "df = df.drop([\"PassengerId\", \"Survived\", \"Name\", \"Ticket\", \"Cabin\"], axis=1)\n",
        "\n",
        "# handling missing values\n",
        "median_age = df.Age.median()\n",
        "mode_embarked = df.Embarked.mode()[0]\n",
        "\n",
        "df = df.fillna({\"Age\": median_age, \"Embarked\": mode_embarked})"
      ]
    },
    {
      "cell_type": "markdown",
      "id": "ef2a7ee0",
      "metadata": {},
      "source": [
        "Compare test accuracy of Decision Tree before and after pruning"
      ]
    },
    {
      "cell_type": "code",
      "execution_count": 19,
      "id": "82fefb27",
      "metadata": {
        "colab": {
          "base_uri": "https://localhost:8080/"
        },
        "id": "82fefb27",
        "outputId": "d6d2da5c-8e8f-475a-fa43-914b9cb1c7b7"
      },
      "outputs": [],
      "source": [
        "random.seed(1)\n",
        "metrics = {\"max_depth\": [], \"acc_tree\": [], \"acc_tree_pruned\": []}\n",
        "for n in range(10, 26):\n",
        "    df_train, df_test = train_test_split(df, test_size=0.15)\n",
        "    df_train, df_val = train_test_split(df_train, test_size=0.15)\n",
        "\n",
        "    tree = decision_tree_algorithm(df_train, ml_task=\"classification\", max_depth=n)\n",
        "    tree_pruned = prune_algorithm(tree, df_train, df_val, ml_task=\"classification\")\n",
        "\n",
        "    metrics[\"max_depth\"].append(n)\n",
        "    metrics[\"acc_tree\"].append(calculate_accuracy(df_test, tree))\n",
        "    metrics[\"acc_tree_pruned\"].append(calculate_accuracy(df_test, tree_pruned))\n",
        "\n",
        "df_metrics = pd.DataFrame(metrics)\n",
        "df_metrics = df_metrics.set_index(\"max_depth\")"
      ]
    },
    {
      "cell_type": "code",
      "execution_count": 20,
      "id": "d5e08dc0",
      "metadata": {
        "colab": {
          "base_uri": "https://localhost:8080/",
          "height": 482
        },
        "id": "d5e08dc0",
        "outputId": "c9dac5cc-cf36-46c2-abdb-0c4611e84ff3"
      },
      "outputs": [
        {
          "data": {
            "text/plain": [
              "<Axes: xlabel='max_depth'>"
            ]
          },
          "execution_count": 20,
          "metadata": {},
          "output_type": "execute_result"
        },
        {
          "data": {
            "image/png": "[encoded data removed]",
            "text/plain": [
              "<Figure size 1200x500 with 1 Axes>"
            ]
          },
          "metadata": {},
          "output_type": "display_data"
        }
      ],
      "source": [
        "# Plot\n",
        "df_metrics.plot(figsize=(12, 5), marker=\"o\")"
      ]
    }
  ],
  "metadata": {
    "colab": {
      "provenance": []
    },
    "kernelspec": {
      "display_name": "venv",
      "language": "python",
      "name": "python3"
    },
    "language_info": {
      "codemirror_mode": {
        "name": "ipython",
        "version": 3
      },
      "file_extension": ".py",
      "mimetype": "text/x-python",
      "name": "python",
      "nbconvert_exporter": "python",
      "pygments_lexer": "ipython3",
      "version": "3.9.6"
    }
  },
  "nbformat": 4,
  "nbformat_minor": 5
}
